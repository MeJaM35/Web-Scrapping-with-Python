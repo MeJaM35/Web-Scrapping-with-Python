{
 "cells": [
  {
   "cell_type": "code",
   "execution_count": 1,
   "metadata": {},
   "outputs": [],
   "source": [
    "import pandas as pd\n",
    "import re\n",
    "from selenium import webdriver\n",
    "from selenium.webdriver.common.keys import Keys"
   ]
  },
  {
   "cell_type": "code",
   "execution_count": 2,
   "metadata": {},
   "outputs": [],
   "source": [
    "browser=webdriver.Chrome(\"chromedriver.exe\")\n",
    "browser.get(\"https://www.linkedin.com\")"
   ]
  },
  {
   "cell_type": "code",
   "execution_count": 3,
   "metadata": {},
   "outputs": [],
   "source": [
    "username=browser.find_element_by_id(\"session_key\")\n",
    "username.send_keys(\"shabbirg89@gmail.com\")\n",
    "password=browser.find_element_by_id(\"session_password\")\n",
    "password.send_keys(\"yourpass\")"
   ]
  },
  {
   "cell_type": "code",
   "execution_count": 4,
   "metadata": {},
   "outputs": [],
   "source": [
    "login_button=browser.find_element_by_class_name(\"sign-in-form__submit-button\")\n",
    "login_button.click()"
   ]
  },
  {
   "cell_type": "code",
   "execution_count": 5,
   "metadata": {},
   "outputs": [],
   "source": [
    "browser.get(\"https://www.linkedin.com/jobs/\")"
   ]
  },
  {
   "cell_type": "code",
   "execution_count": 8,
   "metadata": {},
   "outputs": [
    {
     "name": "stdout",
     "output_type": "stream",
     "text": [
      "['Job Title\\nCompliance Data Analyst / Associate - CCB Home Lending Compliance - Corporate Centers in India', 'Job Title\\nSoftware Development Engineer II', 'Job Title\\nApplication Developer: Microsoft .NET', 'Job Title\\nSpring Boot-Developer, Software Engineer/Programmer', 'Job Title\\nStaff Specialist Product Developer', 'Job Title\\nStaff Specialist Product Developer', 'Job Title\\nStaff Product Developer', 'Job Title\\nSoftware Development Engineer - Data Engineering', 'Job Title\\nDecision Scientist I', 'Job Title\\nData Scientist - Central Forecasting Analytics', 'Job Title\\nDeveloper Advocate, Google Cloud', 'Job Title\\nStaff Product Developer', 'Job Title\\nStaff Specialist Product Developer', 'Job Title\\nProduct Developer - .Net', 'Job Title\\nAssociate Product Developer', 'Job Title\\nFullstack Python Developer', 'Job Title\\nSoftware Developer I – Remote – India – Bangalore', 'Job Title\\nPython automation developer', 'Job Title\\nStaff Specialist Product Developer', 'Job Title\\nData Scientist', 'Job Title\\nProduct Manager 2 - Chatbots', 'Job Title\\nDeveloper', 'Job Title\\nData Scientist - Deputy Manager']\n",
      "\n",
      "23\n"
     ]
    }
   ],
   "source": [
    "job=browser.find_elements_by_class_name(\"job-card-square__title\")\n",
    "c=[]\n",
    "for i in job:\n",
    "    #print(i.text)\n",
    "    c.append(i.text)\n",
    "print(c)\n",
    "print()\n",
    "print(len(c))"
   ]
  },
  {
   "cell_type": "code",
   "execution_count": 9,
   "metadata": {},
   "outputs": [
    {
     "name": "stdout",
     "output_type": "stream",
     "text": [
      "['Compliance Data Analyst / Associate - CCB Home Lending Compliance - Corporate Centers in India', 'Software Development Engineer II', 'Application Developer: Microsoft .NE', 'Spring Boot-Developer, Software Engineer/Programmer', 'Staff Specialist Product Developer', 'Staff Specialist Product Developer', 'Staff Product Developer', 'Software Development Engineer - Data Engineering', 'Decision Scientist I', 'Data Scientist - Central Forecasting Analytics', 'Developer Advocate, Google Cloud', 'Staff Product Developer', 'Staff Specialist Product Developer', 'Product Developer - .N', 'Associate Product Developer', 'Fullstack Python Developer', 'Software Developer I – Remote – India – Bangalor', 'Python automation developer', 'Staff Specialist Product Developer', 'Data Scientis', 'Product Manager 2 - Chatbots', 'Developer', 'Data Scientist - Deputy Manager']\n"
     ]
    }
   ],
   "source": [
    "job_title=[]\n",
    "for i in range(len(c)):\n",
    "    job_title.append(c[i].strip(\"Job Title\\n\"))\n",
    "    job_title\n",
    "\n",
    "print(job_title)"
   ]
  },
  {
   "cell_type": "code",
   "execution_count": 11,
   "metadata": {},
   "outputs": [
    {
     "name": "stdout",
     "output_type": "stream",
     "text": [
      "['J.P. Morgan', 'Amazon', 'IBM', 'BMC Software', 'BMC Software', 'BMC Software', 'Hotstar', 'Flipkart', 'Cisco', 'Google', 'BMC Software', 'BMC Software', 'Epicor Software', 'BMC Software', 'LTI - Larsen & Toubro Infotech', 'Syniti', 'Altran', 'BMC Software', 'Gojek', 'Barclays', 'Vodafone']\n",
      "\n",
      "21\n"
     ]
    }
   ],
   "source": [
    "job2=browser.find_elements_by_class_name(\"job-card-container__company-name\")\n",
    "comp_name=[]\n",
    "for i in job2:\n",
    "    #print(i.text)\n",
    "    comp_name.append(i.text)\n",
    "print(comp_name)\n",
    "print()\n",
    "print(len(comp_name))"
   ]
  },
  {
   "cell_type": "code",
   "execution_count": 12,
   "metadata": {},
   "outputs": [
    {
     "name": "stdout",
     "output_type": "stream",
     "text": [
      "['Mumbai, Maharashtra, India', 'Bengaluru, Karnataka, India', 'Bengaluru, Karnataka, India', 'Pune, Maharashtra, India', 'Maharashtra, India', 'Maharashtra, India', 'Maharashtra, India', 'Bengaluru, Karnataka, India', 'Bengaluru, Karnataka, India', 'Bengaluru, Karnataka, India', 'Mumbai, Maharashtra, India', 'Maharashtra, India', 'Maharashtra, India', 'Bengaluru, Karnataka, India', 'Maharashtra, India', 'Pune, Maharashtra, India', 'Bengaluru, Karnataka, India', 'Bengaluru, Karnataka, India', 'Ahmadnagar, Maharashtra, India', 'Mumbai, Maharashtra, India', 'Bengaluru, Karnataka, India', 'Pune, Maharashtra, India', 'Pune, Maharashtra, India']\n",
      "\n",
      "23\n"
     ]
    }
   ],
   "source": [
    "job3 = browser.find_elements_by_class_name(\"job-card-container__metadata-item\")\n",
    "loc_name=[]\n",
    "for i in job3:\n",
    "    #print(i.text)\n",
    "    loc_name.append(i.text)\n",
    "print(loc_name)\n",
    "print()\n",
    "print(len(loc_name))"
   ]
  },
  {
   "cell_type": "code",
   "execution_count": 15,
   "metadata": {},
   "outputs": [],
   "source": [
    "comp_name.append(\" \")\n",
    "comp_name.append(\" \")"
   ]
  },
  {
   "cell_type": "code",
   "execution_count": 16,
   "metadata": {},
   "outputs": [
    {
     "data": {
      "text/plain": [
       "23"
      ]
     },
     "execution_count": 16,
     "metadata": {},
     "output_type": "execute_result"
    }
   ],
   "source": [
    "len(comp_name)"
   ]
  },
  {
   "cell_type": "code",
   "execution_count": 17,
   "metadata": {},
   "outputs": [],
   "source": [
    "col=[\"Company Name\",\"Job Title\",\"Location\"]\n",
    "df=pd.DataFrame({\"Company Name\":comp_name,\"Job Title\":job_title,\"Location\":loc_name})"
   ]
  },
  {
   "cell_type": "code",
   "execution_count": 18,
   "metadata": {},
   "outputs": [
    {
     "data": {
      "text/html": [
       "<div>\n",
       "<style scoped>\n",
       "    .dataframe tbody tr th:only-of-type {\n",
       "        vertical-align: middle;\n",
       "    }\n",
       "\n",
       "    .dataframe tbody tr th {\n",
       "        vertical-align: top;\n",
       "    }\n",
       "\n",
       "    .dataframe thead th {\n",
       "        text-align: right;\n",
       "    }\n",
       "</style>\n",
       "<table border=\"1\" class=\"dataframe\">\n",
       "  <thead>\n",
       "    <tr style=\"text-align: right;\">\n",
       "      <th></th>\n",
       "      <th>Company Name</th>\n",
       "      <th>Job Title</th>\n",
       "      <th>Location</th>\n",
       "    </tr>\n",
       "  </thead>\n",
       "  <tbody>\n",
       "    <tr>\n",
       "      <td>0</td>\n",
       "      <td>J.P. Morgan</td>\n",
       "      <td>Compliance Data Analyst / Associate - CCB Home...</td>\n",
       "      <td>Mumbai, Maharashtra, India</td>\n",
       "    </tr>\n",
       "    <tr>\n",
       "      <td>1</td>\n",
       "      <td>Amazon</td>\n",
       "      <td>Software Development Engineer II</td>\n",
       "      <td>Bengaluru, Karnataka, India</td>\n",
       "    </tr>\n",
       "    <tr>\n",
       "      <td>2</td>\n",
       "      <td>IBM</td>\n",
       "      <td>Application Developer: Microsoft .NE</td>\n",
       "      <td>Bengaluru, Karnataka, India</td>\n",
       "    </tr>\n",
       "    <tr>\n",
       "      <td>3</td>\n",
       "      <td>BMC Software</td>\n",
       "      <td>Spring Boot-Developer, Software Engineer/Progr...</td>\n",
       "      <td>Pune, Maharashtra, India</td>\n",
       "    </tr>\n",
       "    <tr>\n",
       "      <td>4</td>\n",
       "      <td>BMC Software</td>\n",
       "      <td>Staff Specialist Product Developer</td>\n",
       "      <td>Maharashtra, India</td>\n",
       "    </tr>\n",
       "  </tbody>\n",
       "</table>\n",
       "</div>"
      ],
      "text/plain": [
       "   Company Name                                          Job Title  \\\n",
       "0   J.P. Morgan  Compliance Data Analyst / Associate - CCB Home...   \n",
       "1        Amazon                   Software Development Engineer II   \n",
       "2           IBM               Application Developer: Microsoft .NE   \n",
       "3  BMC Software  Spring Boot-Developer, Software Engineer/Progr...   \n",
       "4  BMC Software                 Staff Specialist Product Developer   \n",
       "\n",
       "                      Location  \n",
       "0   Mumbai, Maharashtra, India  \n",
       "1  Bengaluru, Karnataka, India  \n",
       "2  Bengaluru, Karnataka, India  \n",
       "3     Pune, Maharashtra, India  \n",
       "4           Maharashtra, India  "
      ]
     },
     "execution_count": 18,
     "metadata": {},
     "output_type": "execute_result"
    }
   ],
   "source": [
    "df.head()"
   ]
  },
  {
   "cell_type": "code",
   "execution_count": 19,
   "metadata": {},
   "outputs": [],
   "source": [
    "df.to_csv(\"linkedin_scrapejobs.csv\")"
   ]
  },
  {
   "cell_type": "code",
   "execution_count": null,
   "metadata": {},
   "outputs": [],
   "source": []
  }
 ],
 "metadata": {
  "kernelspec": {
   "display_name": "Python 3",
   "language": "python",
   "name": "python3"
  },
  "language_info": {
   "codemirror_mode": {
    "name": "ipython",
    "version": 3
   },
   "file_extension": ".py",
   "mimetype": "text/x-python",
   "name": "python",
   "nbconvert_exporter": "python",
   "pygments_lexer": "ipython3",
   "version": "3.7.4"
  }
 },
 "nbformat": 4,
 "nbformat_minor": 2
}
